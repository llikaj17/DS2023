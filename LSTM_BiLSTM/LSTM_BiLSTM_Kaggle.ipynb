{
  "metadata": {
    "kernelspec": {
      "language": "python",
      "display_name": "Python 3",
      "name": "python3"
    },
    "language_info": {
      "name": "python",
      "version": "3.7.10",
      "mimetype": "text/x-python",
      "codemirror_mode": {
        "name": "ipython",
        "version": 3
      },
      "pygments_lexer": "ipython3",
      "nbconvert_exporter": "python",
      "file_extension": ".py"
    },
    "colab": {
      "provenance": []
    },
    "accelerator": "GPU"
  },
  "nbformat_minor": 0,
  "nbformat": 4,
  "cells": [
    {
      "cell_type": "markdown",
      "source": [
        "# **HATE SPEECH DETECTION USING LSTM AND BILSMT ON KAGGLE**\n",
        "\n",
        "**REFERENCE**: The implementation here is a combination of different implementations: <br>\n",
        "[1] Pinkesh Badjatiya and Shashank Gupta in \"Deep Learning for Hate Speech Detection\" (to appear in WWW'17 proceedings) (2017) at https://github.com/pinkeshbadjatiya/twitter-hatespeech <br>\n",
        "[2] Adil Emre Bilgic(June, 2021) \"Sentiment Analysis Hate Speech at https://www.kaggle.com/adilemrebilgic/sentiment-analysis-hate-speech/notebook<br>\n",
        "[3] Srishti Bhalla(Feb 2019) in Hate-Speech-Detection-on-Twitter-Data at https://github.com/srishb28/Hate-Speech-Detection-on-Twitter-Data trained on the dataset of Zeerak et. al. at https://github.com/ZeerakW/hatespeech mentioned also in the report<br>\n",
        "[4] Deephate: Paper: Cao, R., Ka-Wei Lee, R., Hoang, T.A.: DeepHate: Hate Speech Detection via Multi-Faceted Text Representations. In: WebSci ’20: 12th ACM Conference on Web Science, July 2020 Pages 11–20 (October 2020) https://gitlab.com/bottle_shop/safe/deephate/-/tree/master/DeepHate<br><br>\n",
        "\n",
        "In this notebook we present the approach as we are trying to detect hate speech in tweets of the Kaggle dataset. The dataset is distributed as hate(sexist/racist) and non-hate. The label '1' denotes the tweet is racist/sexist and label '0' is non-hate.\n",
        "\n",
        "There are two models: LSTM and BiLSTM. We train the models on Kaggle dataset, where we split on **80%** for training and **20%** on testing. The data is not shuffled in order to have a fair comparison between other models presented in the paper i.e Deephate and TFIDF Based Model.\n",
        "\n",
        "> The model is a simple LSTM network with **128** unit in the hidden layer and a drop out rate of `0.2` and a reccurrent droput rate of `0.4`. There is one dense layer at the end with 1 unit and an activation function as sigmoid (since we are trying to predict binary labels `0` and `1`). We use `binary_cross_entropy` loss as well. \n",
        "\n",
        "The models are trained for different number of epochs (ranging from 1-35) and you can have a look at the accuracy and training plot below, with respective comments.\n",
        "<br><br><br>\n",
        "**Table of Contents:**<br><br>\n",
        "\n",
        "---\n",
        "HATE SPEECH DETECTION USING LSTM AND BILSMT ON KAGGLE\n",
        "1. Imports and Preleminaries\n",
        "2. Data Cleaning\n",
        " - Text Pre-Processing\n",
        " - Cleaning Pipeline\n",
        " - Data Preparation\n",
        "3. LSTM and BiLSTM Models\n",
        "4. Training\n",
        "5. Model Training\n",
        " - Word Embeddings\n",
        "    - One-Hot Vector Representation\n",
        "    - Train The Model\n",
        " - Simple Word2Vec Embedding Model\n",
        "    - Train the model\n",
        " - GloVE Pretrained Embedding\n",
        "    - Train the model\n",
        "\n",
        "<br><br><br>\n",
        "How to run the notebook?\n",
        "\n",
        "---\n",
        "\n",
        "\n",
        "1.   Start the notebook and run every cell\n",
        "2.   Make sure to have all packages installed. It might be better if you use Google Colab or Kaggle as they already have most of the packages available for usage\n",
        "3.   Packages to be installed: Numpy, Pandas, Matplotlib, Seaborn, Tensorflow, nltk, keras, and genism\n",
        "4.   Then you can just run the notebook as usuall and enjoy the result :)\n",
        "5.   If anything happens please contact as to our email address as noted on the submission lab report. \n",
        "---\n",
        "\n",
        "<br>\n",
        "Thank you for your understanding!\n",
        "\n"
      ],
      "metadata": {
        "id": "uGKwtsRAuKQI"
      }
    },
    {
      "cell_type": "markdown",
      "source": [
        "## Imports and Preleminaries"
      ],
      "metadata": {
        "id": "nb3mEr5HbDIV"
      }
    },
    {
      "cell_type": "code",
      "source": [
        "#importing libraries and organize them\n",
        "import re\n",
        "import numpy as np\n",
        "import pandas as pd\n",
        "import matplotlib.pyplot as plt\n",
        "import seaborn as sns\n",
        "import string\n",
        "import tensorflow as tf\n",
        "import nltk\n",
        "import keras.utils\n",
        "from keras.utils.np_utils import to_categorical\n",
        "from tensorflow.keras.layers import Embedding, LSTM, Dense, Dropout, Conv1D, MaxPooling1D, Flatten, TimeDistributed, Input, Bidirectional, GlobalMaxPool1D, LeakyReLU\n",
        "from tensorflow.keras.preprocessing.sequence import pad_sequences\n",
        "from tensorflow.keras.models import Sequential\n",
        "from tensorflow.keras.preprocessing.text import one_hot\n",
        "from tensorflow.keras import regularizers\n",
        "from keras.callbacks import EarlyStopping,ModelCheckpoint\n",
        "from keras.preprocessing.text import Tokenizer\n",
        "from keras.preprocessing.sequence import pad_sequences\n",
        "from sklearn.model_selection import train_test_split\n",
        "from sklearn.metrics import precision_recall_fscore_support, accuracy_score, classification_report, confusion_matrix\n",
        "from nltk.stem.porter import PorterStemmer\n",
        "from nltk.corpus import stopwords\n",
        "from nltk.tokenize import word_tokenize\n",
        "# Word2vec model would be used to train an word 2 vec model used to initialize the weights of the Embedding layer...\n",
        "from gensim.models import Word2Vec"
      ],
      "metadata": {
        "execution": {
          "iopub.status.busy": "2021-07-07T12:31:10.513207Z",
          "iopub.execute_input": "2021-07-07T12:31:10.513536Z",
          "iopub.status.idle": "2021-07-07T12:31:16.881295Z",
          "shell.execute_reply.started": "2021-07-07T12:31:10.513492Z",
          "shell.execute_reply": "2021-07-07T12:31:16.880470Z"
        },
        "trusted": true,
        "id": "Yl3KsDhPuKQL"
      },
      "execution_count": null,
      "outputs": []
    },
    {
      "cell_type": "code",
      "source": [
        "# You can use tensorboard model to generate logs beside using matplot libs.\n",
        "# Tensorflow displays more user friendly plots. \n",
        "# I am not sure if this works in a normal jupyter notebook but in Colab it is working fine.\n",
        "tensorboard_callback = tf.keras.callbacks.TensorBoard(log_dir=\"logs\")"
      ],
      "metadata": {
        "id": "S7cOWSHLHuq7"
      },
      "execution_count": null,
      "outputs": []
    },
    {
      "cell_type": "code",
      "source": [
        "# Download necessary stopwords and punctuation from nltk if you do not have them\n",
        "nltk.download('stopwords')\n",
        "nltk.download('punkt')"
      ],
      "metadata": {
        "colab": {
          "base_uri": "https://localhost:8080/"
        },
        "id": "Pxk39MguGiOb",
        "outputId": "1f5c9e5c-e004-403c-9f5a-a9d82f99de86"
      },
      "execution_count": null,
      "outputs": [
        {
          "output_type": "stream",
          "name": "stdout",
          "text": [
            "[nltk_data] Downloading package stopwords to /root/nltk_data...\n",
            "[nltk_data]   Unzipping corpora/stopwords.zip.\n",
            "[nltk_data] Downloading package punkt to /root/nltk_data...\n",
            "[nltk_data]   Unzipping tokenizers/punkt.zip.\n"
          ]
        },
        {
          "output_type": "execute_result",
          "data": {
            "text/plain": [
              "True"
            ]
          },
          "metadata": {},
          "execution_count": 3
        }
      ]
    },
    {
      "cell_type": "markdown",
      "source": [
        "You can use this function to mount your google drive to the google colab. Since you can store a lot of data in Google drive with this function is easier to access that data, rather than to reupload it several times after restarting the notebook. If you are running on a local jupyter notebook then there is no need to run this cell, just link the necessary files accordingly."
      ],
      "metadata": {
        "id": "7XIC5mfLgTZU"
      }
    },
    {
      "cell_type": "code",
      "source": [
        "from google.colab import drive\n",
        "drive.mount('/content/gdrive')"
      ],
      "metadata": {
        "colab": {
          "base_uri": "https://localhost:8080/"
        },
        "id": "VmzwhhjL4Uyx",
        "outputId": "5e865d2a-ee1b-4795-defa-d7b0ba326af8"
      },
      "execution_count": null,
      "outputs": [
        {
          "output_type": "stream",
          "name": "stdout",
          "text": [
            "Mounted at /content/gdrive\n"
          ]
        }
      ]
    },
    {
      "cell_type": "markdown",
      "source": [
        "Get the data to Google Colab. You can use this cell to upload the data or even drag the data manually to the folder you wish. Notice that this might affect the path of the file accordingly. If you are running on a local jupyter notebook then there is no need to run this cell."
      ],
      "metadata": {
        "id": "NRE0NK0mBHV2"
      }
    },
    {
      "cell_type": "code",
      "source": [
        "from google.colab import files\n",
        "# Upload files to google colab in case drag-drop option is not working\n",
        "# This is the case with my instance (maybe slow internet connection)\n",
        "# The file will be saved in '\\content\\name_of_file' directory\n",
        "dataset_file_dict = files.upload()"
      ],
      "metadata": {
        "id": "-siYGq5ji-uk",
        "colab": {
          "resources": {
            "http://localhost:8080/nbextensions/google.colab/files.js": {
              "data": "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",
              "ok": true,
              "headers": [
                [
                  "content-type",
                  "application/javascript"
                ]
              ],
              "status": 200,
              "status_text": "OK"
            }
          },
          "base_uri": "https://localhost:8080/",
          "height": 75
        },
        "outputId": "122e8bec-da33-411a-fc0f-f6167f801a3e"
      },
      "execution_count": null,
      "outputs": [
        {
          "output_type": "display_data",
          "data": {
            "text/html": [
              "\n",
              "     <input type=\"file\" id=\"files-f7133328-403a-4b22-9580-55461ce48ca9\" name=\"files[]\" multiple disabled\n",
              "        style=\"border:none\" />\n",
              "     <output id=\"result-f7133328-403a-4b22-9580-55461ce48ca9\">\n",
              "      Upload widget is only available when the cell has been executed in the\n",
              "      current browser session. Please rerun this cell to enable.\n",
              "      </output>\n",
              "      <script src=\"/nbextensions/google.colab/files.js\"></script> "
            ],
            "text/plain": [
              "<IPython.core.display.HTML object>"
            ]
          },
          "metadata": {}
        },
        {
          "output_type": "stream",
          "name": "stdout",
          "text": [
            "Saving kaggle.csv to kaggle.csv\n"
          ]
        }
      ]
    },
    {
      "cell_type": "markdown",
      "source": [
        "Let's see how the data looks like:"
      ],
      "metadata": {
        "id": "8JQk7IrdgwK5"
      }
    },
    {
      "cell_type": "code",
      "source": [
        "# get the dataset (Be aware that the name of the dataset might change due to different submission versions)\n",
        "kaggle_ds = pd.read_csv(\"/content/kaggle.csv\")\n",
        "kaggle_ds.head()"
      ],
      "metadata": {
        "execution": {
          "iopub.status.busy": "2021-07-07T12:31:16.882709Z",
          "iopub.execute_input": "2021-07-07T12:31:16.883035Z",
          "iopub.status.idle": "2021-07-07T12:31:17.006620Z",
          "shell.execute_reply.started": "2021-07-07T12:31:16.883000Z",
          "shell.execute_reply": "2021-07-07T12:31:17.005879Z"
        },
        "trusted": true,
        "colab": {
          "base_uri": "https://localhost:8080/",
          "height": 207
        },
        "id": "IP_eQYhxuKQM",
        "outputId": "44a0259d-9f1d-42a2-824d-3efa8926a559"
      },
      "execution_count": null,
      "outputs": [
        {
          "output_type": "execute_result",
          "data": {
            "text/html": [
              "\n",
              "  <div id=\"df-0dd07dee-0017-44e8-a42b-4911cbea3474\">\n",
              "    <div class=\"colab-df-container\">\n",
              "      <div>\n",
              "<style scoped>\n",
              "    .dataframe tbody tr th:only-of-type {\n",
              "        vertical-align: middle;\n",
              "    }\n",
              "\n",
              "    .dataframe tbody tr th {\n",
              "        vertical-align: top;\n",
              "    }\n",
              "\n",
              "    .dataframe thead th {\n",
              "        text-align: right;\n",
              "    }\n",
              "</style>\n",
              "<table border=\"1\" class=\"dataframe\">\n",
              "  <thead>\n",
              "    <tr style=\"text-align: right;\">\n",
              "      <th></th>\n",
              "      <th>id</th>\n",
              "      <th>label</th>\n",
              "      <th>tweet</th>\n",
              "    </tr>\n",
              "  </thead>\n",
              "  <tbody>\n",
              "    <tr>\n",
              "      <th>0</th>\n",
              "      <td>1</td>\n",
              "      <td>0</td>\n",
              "      <td>@user when a father is dysfunctional and is s...</td>\n",
              "    </tr>\n",
              "    <tr>\n",
              "      <th>1</th>\n",
              "      <td>2</td>\n",
              "      <td>0</td>\n",
              "      <td>@user @user thanks for #lyft credit i can't us...</td>\n",
              "    </tr>\n",
              "    <tr>\n",
              "      <th>2</th>\n",
              "      <td>3</td>\n",
              "      <td>0</td>\n",
              "      <td>bihday your majesty</td>\n",
              "    </tr>\n",
              "    <tr>\n",
              "      <th>3</th>\n",
              "      <td>4</td>\n",
              "      <td>0</td>\n",
              "      <td>#model   i love u take with u all the time in ...</td>\n",
              "    </tr>\n",
              "    <tr>\n",
              "      <th>4</th>\n",
              "      <td>5</td>\n",
              "      <td>0</td>\n",
              "      <td>factsguide: society now    #motivation</td>\n",
              "    </tr>\n",
              "  </tbody>\n",
              "</table>\n",
              "</div>\n",
              "      <button class=\"colab-df-convert\" onclick=\"convertToInteractive('df-0dd07dee-0017-44e8-a42b-4911cbea3474')\"\n",
              "              title=\"Convert this dataframe to an interactive table.\"\n",
              "              style=\"display:none;\">\n",
              "        \n",
              "  <svg xmlns=\"http://www.w3.org/2000/svg\" height=\"24px\"viewBox=\"0 0 24 24\"\n",
              "       width=\"24px\">\n",
              "    <path d=\"M0 0h24v24H0V0z\" fill=\"none\"/>\n",
              "    <path d=\"M18.56 5.44l.94 2.06.94-2.06 2.06-.94-2.06-.94-.94-2.06-.94 2.06-2.06.94zm-11 1L8.5 8.5l.94-2.06 2.06-.94-2.06-.94L8.5 2.5l-.94 2.06-2.06.94zm10 10l.94 2.06.94-2.06 2.06-.94-2.06-.94-.94-2.06-.94 2.06-2.06.94z\"/><path d=\"M17.41 7.96l-1.37-1.37c-.4-.4-.92-.59-1.43-.59-.52 0-1.04.2-1.43.59L10.3 9.45l-7.72 7.72c-.78.78-.78 2.05 0 2.83L4 21.41c.39.39.9.59 1.41.59.51 0 1.02-.2 1.41-.59l7.78-7.78 2.81-2.81c.8-.78.8-2.07 0-2.86zM5.41 20L4 18.59l7.72-7.72 1.47 1.35L5.41 20z\"/>\n",
              "  </svg>\n",
              "      </button>\n",
              "      \n",
              "  <style>\n",
              "    .colab-df-container {\n",
              "      display:flex;\n",
              "      flex-wrap:wrap;\n",
              "      gap: 12px;\n",
              "    }\n",
              "\n",
              "    .colab-df-convert {\n",
              "      background-color: #E8F0FE;\n",
              "      border: none;\n",
              "      border-radius: 50%;\n",
              "      cursor: pointer;\n",
              "      display: none;\n",
              "      fill: #1967D2;\n",
              "      height: 32px;\n",
              "      padding: 0 0 0 0;\n",
              "      width: 32px;\n",
              "    }\n",
              "\n",
              "    .colab-df-convert:hover {\n",
              "      background-color: #E2EBFA;\n",
              "      box-shadow: 0px 1px 2px rgba(60, 64, 67, 0.3), 0px 1px 3px 1px rgba(60, 64, 67, 0.15);\n",
              "      fill: #174EA6;\n",
              "    }\n",
              "\n",
              "    [theme=dark] .colab-df-convert {\n",
              "      background-color: #3B4455;\n",
              "      fill: #D2E3FC;\n",
              "    }\n",
              "\n",
              "    [theme=dark] .colab-df-convert:hover {\n",
              "      background-color: #434B5C;\n",
              "      box-shadow: 0px 1px 3px 1px rgba(0, 0, 0, 0.15);\n",
              "      filter: drop-shadow(0px 1px 2px rgba(0, 0, 0, 0.3));\n",
              "      fill: #FFFFFF;\n",
              "    }\n",
              "  </style>\n",
              "\n",
              "      <script>\n",
              "        const buttonEl =\n",
              "          document.querySelector('#df-0dd07dee-0017-44e8-a42b-4911cbea3474 button.colab-df-convert');\n",
              "        buttonEl.style.display =\n",
              "          google.colab.kernel.accessAllowed ? 'block' : 'none';\n",
              "\n",
              "        async function convertToInteractive(key) {\n",
              "          const element = document.querySelector('#df-0dd07dee-0017-44e8-a42b-4911cbea3474');\n",
              "          const dataTable =\n",
              "            await google.colab.kernel.invokeFunction('convertToInteractive',\n",
              "                                                     [key], {});\n",
              "          if (!dataTable) return;\n",
              "\n",
              "          const docLinkHtml = 'Like what you see? Visit the ' +\n",
              "            '<a target=\"_blank\" href=https://colab.research.google.com/notebooks/data_table.ipynb>data table notebook</a>'\n",
              "            + ' to learn more about interactive tables.';\n",
              "          element.innerHTML = '';\n",
              "          dataTable['output_type'] = 'display_data';\n",
              "          await google.colab.output.renderOutput(dataTable, element);\n",
              "          const docLink = document.createElement('div');\n",
              "          docLink.innerHTML = docLinkHtml;\n",
              "          element.appendChild(docLink);\n",
              "        }\n",
              "      </script>\n",
              "    </div>\n",
              "  </div>\n",
              "  "
            ],
            "text/plain": [
              "   id  label                                              tweet\n",
              "0   1      0   @user when a father is dysfunctional and is s...\n",
              "1   2      0  @user @user thanks for #lyft credit i can't us...\n",
              "2   3      0                                bihday your majesty\n",
              "3   4      0  #model   i love u take with u all the time in ...\n",
              "4   5      0             factsguide: society now    #motivation"
            ]
          },
          "metadata": {},
          "execution_count": 5
        }
      ]
    },
    {
      "cell_type": "markdown",
      "source": [
        "## Data Cleaning"
      ],
      "metadata": {
        "id": "tCOG6vOhGoez"
      }
    },
    {
      "cell_type": "code",
      "source": [
        "# checking for null values\n",
        "kaggle_ds.isnull().sum()"
      ],
      "metadata": {
        "execution": {
          "iopub.status.busy": "2021-07-07T12:31:17.008361Z",
          "iopub.execute_input": "2021-07-07T12:31:17.008701Z",
          "iopub.status.idle": "2021-07-07T12:31:17.019266Z",
          "shell.execute_reply.started": "2021-07-07T12:31:17.008665Z",
          "shell.execute_reply": "2021-07-07T12:31:17.018318Z"
        },
        "trusted": true,
        "colab": {
          "base_uri": "https://localhost:8080/"
        },
        "id": "lz5ptJNLuKQO",
        "outputId": "ea6e6313-75cb-4840-a2bb-cb52bdcccab5"
      },
      "execution_count": null,
      "outputs": [
        {
          "output_type": "execute_result",
          "data": {
            "text/plain": [
              "id       0\n",
              "label    0\n",
              "tweet    0\n",
              "dtype: int64"
            ]
          },
          "metadata": {},
          "execution_count": 14
        }
      ]
    },
    {
      "cell_type": "markdown",
      "source": [
        "\n",
        "**There are NO NULL VALUES found as expected** since the dataset is already a processed one and most of the bad content is removed. However there is still some preprocessing left."
      ],
      "metadata": {
        "id": "yHqBfoTruKQP"
      }
    },
    {
      "cell_type": "code",
      "source": [
        "# defining dependent and independent vectors\n",
        "# taking only title for prediction\n",
        "x = kaggle_ds.iloc[:,2:3]\n",
        "y = kaggle_ds['label']"
      ],
      "metadata": {
        "execution": {
          "iopub.status.busy": "2021-07-07T12:31:17.021233Z",
          "iopub.execute_input": "2021-07-07T12:31:17.021594Z",
          "iopub.status.idle": "2021-07-07T12:31:17.028036Z",
          "shell.execute_reply.started": "2021-07-07T12:31:17.021558Z",
          "shell.execute_reply": "2021-07-07T12:31:17.027085Z"
        },
        "trusted": true,
        "id": "Yuep61v0uKQQ"
      },
      "execution_count": null,
      "outputs": []
    },
    {
      "cell_type": "code",
      "source": [
        "kaggle_ds['label'].value_counts()"
      ],
      "metadata": {
        "execution": {
          "iopub.status.busy": "2021-07-07T13:26:02.758447Z",
          "iopub.execute_input": "2021-07-07T13:26:02.758805Z",
          "iopub.status.idle": "2021-07-07T13:26:02.768219Z",
          "shell.execute_reply.started": "2021-07-07T13:26:02.758773Z",
          "shell.execute_reply": "2021-07-07T13:26:02.767141Z"
        },
        "trusted": true,
        "colab": {
          "base_uri": "https://localhost:8080/"
        },
        "id": "H5m3ynOBuKQR",
        "outputId": "89ac81e6-102d-4300-d958-a854da5de15f"
      },
      "execution_count": null,
      "outputs": [
        {
          "output_type": "execute_result",
          "data": {
            "text/plain": [
              "0    29720\n",
              "1     2242\n",
              "Name: label, dtype: int64"
            ]
          },
          "metadata": {},
          "execution_count": 17
        }
      ]
    },
    {
      "cell_type": "code",
      "source": [
        "# Lets see how the data is distributed on hate and non hate\n",
        "sns.countplot(x = 'label',data = ds)"
      ],
      "metadata": {
        "execution": {
          "iopub.status.busy": "2021-07-07T12:31:17.029390Z",
          "iopub.execute_input": "2021-07-07T12:31:17.029761Z",
          "iopub.status.idle": "2021-07-07T12:31:17.148408Z",
          "shell.execute_reply.started": "2021-07-07T12:31:17.029726Z",
          "shell.execute_reply": "2021-07-07T12:31:17.147498Z"
        },
        "trusted": true,
        "colab": {
          "base_uri": "https://localhost:8080/",
          "height": 297
        },
        "id": "_Q-ozxx_uKQR",
        "outputId": "d02bda73-e84a-47c6-b5c7-cdfc3f5cfc13"
      },
      "execution_count": null,
      "outputs": [
        {
          "output_type": "execute_result",
          "data": {
            "text/plain": [
              "<matplotlib.axes._subplots.AxesSubplot at 0x7f61ca7cb050>"
            ]
          },
          "metadata": {},
          "execution_count": 11
        },
        {
          "output_type": "display_data",
          "data": {
            "image/png": "[encoded data removed]",
            "text/plain": [
              "<Figure size 432x288 with 1 Axes>"
            ]
          },
          "metadata": {
            "needs_background": "light"
          }
        }
      ]
    },
    {
      "cell_type": "markdown",
      "source": [
        "There are around 30000 tweets labeled as 0(non-hate) and around 2500 labeled as hate or 1. Datase is heavily skewed and most tweets are considered as offensive.\n",
        "\n",
        "Let's also check the length of the tweet so we can then use padding in the further steps below. As you can notice from the graph the tweets seem to be less than 35 tokens long so I suppose the number 50 in training would be enough."
      ],
      "metadata": {
        "id": "3Go9rLW6uKQT"
      }
    },
    {
      "cell_type": "code",
      "source": [
        "kaggle_ds['tweet'].str.split().map(lambda x: len(x)).hist()"
      ],
      "metadata": {
        "colab": {
          "base_uri": "https://localhost:8080/",
          "height": 283
        },
        "id": "x0EskiqB425v",
        "outputId": "4c0db26c-a1cd-471a-f943-d6b43711039b"
      },
      "execution_count": null,
      "outputs": [
        {
          "output_type": "execute_result",
          "data": {
            "text/plain": [
              "<matplotlib.axes._subplots.AxesSubplot at 0x7fbac06aa350>"
            ]
          },
          "metadata": {},
          "execution_count": 7
        },
        {
          "output_type": "display_data",
          "data": {
            "image/png": "[encoded data removed]",
            "text/plain": [
              "<Figure size 432x288 with 1 Axes>"
            ]
          },
          "metadata": {
            "needs_background": "light"
          }
        }
      ]
    },
    {
      "cell_type": "markdown",
      "source": [
        "## Text Pre-Processing\n",
        "\n",
        "This is rather a simple cleaning pipeline:\n",
        "\n",
        "\n",
        "1.   Remove special characters and leave only letters.\n",
        "2.   Lowercase all letters and split the text\n",
        "3.   Remove emojis/links/usernames and normalize hash tags.\n",
        "4.   Apply stemming on the data to fix the influence of the bad words\n",
        "5.   Remove all the stopwords as they are do not contain a lot of information stored. \n",
        "6.   Create a sequence again\n",
        "\n",
        "> This method was part of the Deephate project found in the submission folder in gitlab. We tried to align our methods in order to have a much more fair comparison. However, in LSTM we also make use of Stemming as we believe this might be a factor that influence the learning of the model"
      ],
      "metadata": {
        "id": "re1NnWwYhbWf"
      }
    },
    {
      "cell_type": "markdown",
      "source": [
        "### Cleaning Pipleine\n",
        "The cleaning is similar to deephate.\n",
        "Reference: Code implementation for the paper \"DeepHate: Hate Speech Detection via Multi-Faceted Text Representations\" (WebSci'20) Roy Lee (2021) at https://gitlab.com/bottle_shop/safe/deephate/-/blob/master/DeepHate/dataset.py"
      ],
      "metadata": {
        "id": "XGqBCtmErY3M"
      }
    },
    {
      "cell_type": "code",
      "source": [
        "def expand_match(contraction):\n",
        "    contraction_mapping = {\n",
        "        \"isn't\": \"is not\",\n",
        "        \"aren't\": \"are not\",\n",
        "        \"con't\": \"cannot\",\n",
        "        \"can't've\": \"cannot have\",\n",
        "        \"you'll've\": \"your will have\",\n",
        "        \"you're\": \"you are\",\n",
        "        \"you've\": \"you have\"\n",
        "    }\n",
        "    match = contraction.group(0)\n",
        "    first_char = match[0]\n",
        "    expanded_contraction = contraction_mapping.get(match) \\\n",
        "        if contraction_mapping.get(match) \\\n",
        "        else contraction_mapping.get(match.lower())\n",
        "    expanded_contraction = first_char + expanded_contraction[1:]\n",
        "    return expanded_contraction"
      ],
      "metadata": {
        "id": "V6sKnEhk8biD"
      },
      "execution_count": null,
      "outputs": []
    },
    {
      "cell_type": "code",
      "source": [
        "def clean_tweets(text):\n",
        "    url_pattern = re.compile(r'(https?:\\/\\/(?:www\\.|(?!www))[a-zA-Z0-9][a-zA-Z0-9-]+[a-zA-Z0-9]\\.[^\\s]{2,}|https?:\\/\\/(?:www\\.|(?!www))'r'[a-zA-Z0-9]\\.[^\\s]{2,}|www\\.[a-zA-Z0-9]\\.[^\\s]{2,})')\n",
        "    emojis_pattern = re.compile(u'([\\U00002600-\\U000027BF])|([\\U0001f300-\\U0001f64F])|([\\U0001f680-\\U0001f6FF])')\n",
        "    hash_pattern = re.compile(r'#\\w*')\n",
        "    single_letter_pattern = re.compile(r'(?<![\\w\\-])\\w(?![\\w\\-])')\n",
        "    blank_spaces_pattern = re.compile(r'\\s{2,}|\\t')\n",
        "    reserved_pattern = re.compile(r'(RT|rt|FAV|fav|VIA|via)')\n",
        "    mention_pattern = re.compile(r'@\\w*')\n",
        "    CONTRACTION_MAP = {\n",
        "        \"isn't\": \"is not\",\n",
        "        \"aren't\": \"are not\",\n",
        "        \"con't\": \"cannot\",\n",
        "        \"can't've\": \"cannot have\",\n",
        "        \"you'll've\": \"your will have\",\n",
        "        \"you're\": \"you are\",\n",
        "        \"you've\": \"you have\"\n",
        "    }\n",
        "    constraction_pattern = re.compile('({})'.format('|'.join(CONTRACTION_MAP.keys())),\n",
        "                                        flags=re.IGNORECASE | re.DOTALL)\n",
        "    Whitespace = re.compile(u\"[\\s\\u0020\\u00a0\\u1680\\u180e\\u202f\\u205f\\u3000\\u2000-\\u200a]+\", re.UNICODE)\n",
        "    urls = re.sub(pattern=url_pattern, repl='', string=text)\n",
        "    mentions = re.sub(pattern=mention_pattern, repl='', string=urls)\n",
        "    hashtag = re.sub(pattern=hash_pattern, repl='', string=mentions)\n",
        "    reserved = re.sub(pattern=reserved_pattern, repl='', string=hashtag)\n",
        "    reserved = Whitespace.sub(\" \", reserved)\n",
        "    reserved = constraction_pattern.sub(expand_match, reserved)\n",
        "    punct = \"[{}]+\".format(string.punctuation)\n",
        "    punctuation = re.sub(punct, '', reserved)\n",
        "    single = re.sub(pattern=single_letter_pattern, repl='', string=punctuation)\n",
        "    blank = re.sub(pattern=blank_spaces_pattern, repl=' ', string=single)\n",
        "    blank = blank.lower()\n",
        "    # print blank\n",
        "    return blank.split()"
      ],
      "metadata": {
        "id": "EUncE1S3uTrZ"
      },
      "execution_count": null,
      "outputs": []
    },
    {
      "cell_type": "markdown",
      "source": [
        "Let's clean some tweets then..."
      ],
      "metadata": {
        "id": "PES1xdkN0VAY"
      }
    },
    {
      "cell_type": "code",
      "source": [
        "# Text Cleaning and preprocessing\n",
        "cleaned = []\n",
        "for i in range(0,len(kaggle_ds)):\n",
        "    # removing words any other than (a-z) and (A-Z)\n",
        "    # text = re.sub('[^a-zA-Z]',' ', x['tweet'][i]) \n",
        "    # converting all words into lower case\n",
        "    # text = text.lower()\n",
        "    # tokenizing \n",
        "    # text = text.split()\n",
        "    text = clean_tweets(x['tweet'][i])\n",
        "    # text = text.split()\n",
        "    # stemming and removing stopwords\n",
        "    ps = PorterStemmer()\n",
        "    text = [ps.stem(words) for words in text if words not in stopwords.words('english')]\n",
        "    text = ' '.join(text)\n",
        "    cleaned.append(text)"
      ],
      "metadata": {
        "execution": {
          "iopub.status.busy": "2021-07-07T12:31:17.149775Z",
          "iopub.execute_input": "2021-07-07T12:31:17.150112Z",
          "iopub.status.idle": "2021-07-07T12:32:13.648935Z",
          "shell.execute_reply.started": "2021-07-07T12:31:17.150079Z",
          "shell.execute_reply": "2021-07-07T12:32:13.648073Z"
        },
        "trusted": true,
        "id": "X8wnDgt7uKQU"
      },
      "execution_count": null,
      "outputs": []
    },
    {
      "cell_type": "code",
      "source": [
        "# retrieve the cleaned text\n",
        "cleaned[:5]"
      ],
      "metadata": {
        "execution": {
          "iopub.status.busy": "2021-07-07T12:32:13.650207Z",
          "iopub.execute_input": "2021-07-07T12:32:13.650538Z",
          "iopub.status.idle": "2021-07-07T12:32:13.657182Z",
          "shell.execute_reply.started": "2021-07-07T12:32:13.650504Z",
          "shell.execute_reply": "2021-07-07T12:32:13.656296Z"
        },
        "trusted": true,
        "colab": {
          "base_uri": "https://localhost:8080/"
        },
        "id": "T1k45cm3uKQV",
        "outputId": "34118219-1b83-4ae1-b56d-d2939901f0ab"
      },
      "execution_count": null,
      "outputs": [
        {
          "output_type": "execute_result",
          "data": {
            "text/plain": [
              "['father dysfunct selfish drag kid dysfunct',\n",
              " 'thank credit cant use caus dont offer wheelchair van pdx',\n",
              " 'bihday majesti',\n",
              " 'love take time urð\\x9f\\x93± \\x9f\\x98\\x99\\x9f\\x98\\x8e\\x9f\\x91\\x84\\x9f\\x91 \\x9f\\x92¦\\x9f\\x92¦\\x9f\\x92¦',\n",
              " 'factsguid societi']"
            ]
          },
          "metadata": {},
          "execution_count": 11
        }
      ]
    },
    {
      "cell_type": "markdown",
      "source": [
        "## Data Preparation\n",
        "\n",
        "- Tokenize: Split tweets into words.\n",
        "- Padding: Make the input same size by padding with 0 (max.len = 50)\n",
        "- Split into train/test/validation"
      ],
      "metadata": {
        "id": "wSdg4yU-HdVy"
      }
    },
    {
      "cell_type": "markdown",
      "source": [
        "Preprocessing data, tokenization, and padding to match the input of the network"
      ],
      "metadata": {
        "id": "dxC4hVXRuKQY"
      }
    },
    {
      "cell_type": "code",
      "source": [
        "data = kaggle_ds\n",
        "data['tweet'] = cleaned\n",
        "data['tokenized_sents'] = data.apply(lambda column: word_tokenize(column['tweet']), axis=1)"
      ],
      "metadata": {
        "id": "lGVW6h9ScQgX"
      },
      "execution_count": null,
      "outputs": []
    },
    {
      "cell_type": "code",
      "source": [
        "def process_data(data):\n",
        "    tokenizer = Tokenizer()\n",
        "    tokenizer.fit_on_texts(data['tokenized_sents'])\n",
        "    sequences = tokenizer.texts_to_sequences(data['tokenized_sents'])\n",
        "    # Pad the sequence in order to have max length...\n",
        "    x = pad_sequences(sequences, maxlen=50)\n",
        "    y = np.array(data['label'])\n",
        "    # splitting the Dataset into Train and Test set\n",
        "    x_train, x_test, y_train, y_test=train_test_split(x,y,test_size=0.2,random_state=0, shuffle=False)\n",
        "    # x_train, x_val, y_train, y_val=train_test_split(x_train,y_train,test_size=0.2,random_state=0)\n",
        "    # print('Train\\t0:\\t', len(np.where(y_train==0)[0]))\n",
        "    # print('Train\\t1:\\t', len(np.where(y_train==1)[0]))\n",
        "    # print('Test\\t0:\\t', len(np.where(y_test==0)[0]))\n",
        "    # print('Test\\t1:\\t', len(np.where(y_test==1)[0]))\n",
        "    return x_train, x_test, y_train, y_test"
      ],
      "metadata": {
        "id": "DRSbNPV5Plgp"
      },
      "execution_count": null,
      "outputs": []
    },
    {
      "cell_type": "code",
      "source": [
        "x_train, x_test, y_train, y_test = process_data(data)"
      ],
      "metadata": {
        "id": "sSOfzAp4f7F6"
      },
      "execution_count": null,
      "outputs": []
    },
    {
      "cell_type": "code",
      "source": [
        "y_train.shape"
      ],
      "metadata": {
        "colab": {
          "base_uri": "https://localhost:8080/"
        },
        "id": "4Z0neOJk7Ke9",
        "outputId": "c5fbf41f-2c5b-4381-d128-7d97d65f1fc5"
      },
      "execution_count": null,
      "outputs": [
        {
          "output_type": "execute_result",
          "data": {
            "text/plain": [
              "(25569,)"
            ]
          },
          "metadata": {},
          "execution_count": 15
        }
      ]
    },
    {
      "cell_type": "markdown",
      "source": [
        "## LSTM and BiLSTM Models"
      ],
      "metadata": {
        "id": "USnj3ub2G3rs"
      }
    },
    {
      "cell_type": "code",
      "source": [
        "def get_lstm_model(vocab_size, input_length, num_features, embeddings_weight=None, weight_trainable=True):\n",
        "    # creating model using LSTM\n",
        "    model = Sequential()\n",
        "    # taking number features as 64\n",
        "    # vocab_size = number of unique words in the training set\n",
        "    if embeddings_weight is not None:\n",
        "        model.add(Embedding(vocab_size,\n",
        "                            num_features,\n",
        "                            input_length = input_length,\n",
        "                            weights=[embeddings_weight],\n",
        "                            trainable=weight_trainable))\n",
        "    else:\n",
        "        model.add(Embedding(vocab_size, num_features, input_length = input_length))\n",
        "    model.add(Dropout(0.4))\n",
        "    # adding LSTM layers with 128 neurons\n",
        "    model.add(LSTM(128, return_sequences=True, dropout=0.2, recurrent_dropout=0.4))\n",
        "    model.add(GlobalMaxPool1D())\n",
        "    # I added some regularisers to improve the training and to lower overfitting but it actually making little difference\n",
        "    model.add(Dense(50,\n",
        "                    kernel_regularizer=regularizers.l1_l2(l1=1e-5, l2=1e-4),\n",
        "                    bias_regularizer=regularizers.l2(1e-4),\n",
        "                    activity_regularizer=regularizers.l2(1e-5)))\n",
        "    model.add(LeakyReLU(alpha=0.02))\n",
        "    model.add(Dropout(0.2))\n",
        "    # output layer as Dense with sigmoid activation\n",
        "    model.add(Dense(1, activation=\"sigmoid\"))\n",
        "    model.compile(loss=\"binary_crossentropy\", optimizer=\"adam\", metrics=[\"accuracy\"])\n",
        "    # print model summary\n",
        "    model.summary()\n",
        "    return model"
      ],
      "metadata": {
        "id": "yGLUtGEyQoDt"
      },
      "execution_count": null,
      "outputs": []
    },
    {
      "cell_type": "code",
      "source": [
        "def get_bilstm_model(vocab_size, input_length, num_features, embeddings_weight=None, weight_trainable=True):\n",
        "    # creating model using BiLSTM\n",
        "    model = Sequential()\n",
        "    # taking number features as 64\n",
        "    if embeddings_weight is not None:\n",
        "        model.add(Embedding(vocab_size,\n",
        "                            num_features,\n",
        "                            input_length = input_length,\n",
        "                            weights=[embeddings_weight],\n",
        "                            trainable=weight_trainable))\n",
        "    else:\n",
        "        # Random values for the embedding network assigned from keras\n",
        "        model.add(Embedding(vocab_size, num_features, input_length = input_length))\n",
        "    model.add(Dropout(0.4))\n",
        "    # adding Bidirectional LSTM layers with 128 neurons\n",
        "    model.add(Bidirectional(LSTM(128, return_sequences=True, dropout=0.2, recurrent_dropout=0.4)))\n",
        "    model.add(GlobalMaxPool1D())\n",
        "    model.add(Dense(50,\n",
        "                    kernel_regularizer=regularizers.l1_l2(l1=1e-5, l2=1e-4),\n",
        "                    bias_regularizer=regularizers.l2(1e-4),\n",
        "                    activity_regularizer=regularizers.l2(1e-5)))\n",
        "    model.add(LeakyReLU(alpha=0.02))\n",
        "    model.add(Dropout(0.2))\n",
        "    model.add(Dense(1, activation=\"sigmoid\"))\n",
        "    model.compile(loss=\"binary_crossentropy\", optimizer=\"adam\", metrics=[\"accuracy\"])\n",
        "    model.summary()\n",
        "    return model"
      ],
      "metadata": {
        "id": "yxGsm3Iko47r"
      },
      "execution_count": null,
      "outputs": []
    },
    {
      "cell_type": "markdown",
      "source": [
        "## Training"
      ],
      "metadata": {
        "id": "AfmrJtMGG6Ab"
      }
    },
    {
      "cell_type": "markdown",
      "source": [
        "### Model Training\n",
        "A function which takes different configuration to train our model and then test it on test set, It will print the scores (acc, precision, recall, F1 and the confusion matrix)"
      ],
      "metadata": {
        "id": "sH3l42cTarJ1"
      }
    },
    {
      "cell_type": "code",
      "source": [
        "from sklearn.utils import class_weight\n",
        "def train_model(model, x_train, y_train, x_test, y_test, x_val=None, y_val=None, set_batch_size=64, num_epochs=6, verbose=False, scale_loss=False):\n",
        "    \n",
        "    # Stop if the model overfits...\n",
        "    stop = EarlyStopping(\n",
        "        monitor='val_accuracy', \n",
        "        mode='max',\n",
        "        patience=5\n",
        "    )\n",
        "    # Save model logs during training to the specific folder\n",
        "    checkpoint= ModelCheckpoint(\n",
        "        filepath='./',\n",
        "        save_weights_only=True,\n",
        "        monitor='val_accuracy',\n",
        "        mode='max',\n",
        "        save_best_only=True\n",
        "    )\n",
        "\n",
        "    # Lets specify some weights for our class function\n",
        "    # since the dataset is not really balanced and may cause overfitting\n",
        "    class_weights = None\n",
        "    if scale_loss is True:\n",
        "        pass;\n",
        "\n",
        "    # training the model\n",
        "    history = model.fit(x_train,\n",
        "                        y_train,\n",
        "                        validation_split=0.2,\n",
        "                        class_weight=class_weights,\n",
        "                        epochs=num_epochs,\n",
        "                        batch_size=set_batch_size,\n",
        "                        callbacks=[tensorboard_callback, stop, checkpoint])\n",
        "    # Visualizing training accuracy and loss per epoch to eliminate the potential threat of overfitting\n",
        "    plt.figure(figsize=(12, 8))\n",
        "    plt.subplot(1, 2, 1)\n",
        "    plt.plot(np.arange(len(history.history['accuracy'])), history.history['accuracy'], 'b', label='training acc')\n",
        "    plt.plot(np.arange(len(history.history['accuracy'])), history.history['val_accuracy'], 'c', label='val acc')\n",
        "    plt.title('Accuracy Plot')\n",
        "    plt.ylabel('Accuracy')\n",
        "    plt.xlabel('Epochs')\n",
        "    plt.legend(loc='best')\n",
        "    plt.subplot(1, 2, 2)\n",
        "    plt.plot(np.arange(len(history.history['accuracy'])), history.history['loss'], 'r', label='training loss')\n",
        "    plt.plot(np.arange(len(history.history['accuracy'])), history.history['val_loss'], 'g', label='val loss')\n",
        "    plt.legend(loc='best')\n",
        "    plt.title('Loss Plot')\n",
        "    plt.ylabel('Error/Loss')\n",
        "    plt.xlabel('Epochs')\n",
        "    plt.show()\n",
        "    # Evaluate the model on the test set and check the accuracy\n",
        "    evaluation = model.evaluate(x_test, y_test)\n",
        "    # predicting and getting accuracy\n",
        "    y_pred = model.predict(x_test)\n",
        "    y_pred = (y_pred > 0.5)\n",
        "    # y_pred = [1 if prob==True else 0 for prob in y_pred]\n",
        "    print(classification_report(y_test, y_pred))\n",
        "    precision_bi, recall_bi, fscore_bi, support_bi = precision_recall_fscore_support(y_test, y_pred)\n",
        "    print('\\nAccuracy', accuracy_score(y_test,y_pred))\n",
        "    print('LSTM: non hate - hate')\n",
        "    print('precision: {}'.format(precision_bi))\n",
        "    print('recall: {}'.format(recall_bi))\n",
        "    print('fscore: {}'.format(fscore_bi))\n",
        "    print('support: {}'.format(support_bi))\n",
        "    # getting confusion matrix\n",
        "    print('\\nConfusion Matrix: \\n', confusion_matrix(y_test,y_pred))\n",
        "    if verbose == True:\n",
        "        # Only open tensorboard if specified so\n",
        "        %load_ext tensorboard\n",
        "        %tensorboard --logdir logs\n",
        "    return model"
      ],
      "metadata": {
        "id": "BQJ5UTbUaxVG"
      },
      "execution_count": null,
      "outputs": []
    },
    {
      "cell_type": "markdown",
      "source": [
        "## Word Embeddings\n",
        "\n",
        "We will test our lstm and bilstm models with different configurations and embeddings types. \n",
        "- One-Hot Encoding of the Sequence + Random Embeddings\n",
        "- Word2Vec Embedding from Genism generated from training data(i.e dataset of \n",
        "- GloVe Pretrained Embedding (To do this you need to have the golve embedding file somewhere or to download it from : link...)"
      ],
      "metadata": {
        "id": "uPED6VNPZx0Y"
      }
    },
    {
      "cell_type": "code",
      "source": [
        "def shuffle_weights(model):\n",
        "    weights = model.get_weights()\n",
        "    weights = [np.random.permutation(w.flat).reshape(w.shape) for w in weights]\n",
        "    model.set_weights(weights)"
      ],
      "metadata": {
        "id": "2E3szXrhv72p"
      },
      "execution_count": null,
      "outputs": []
    },
    {
      "cell_type": "code",
      "source": [
        "# Reference: [1] Pinkesh et. al. https://github.com/pinkeshbadjatiya/twitter-hatespeech\n",
        "from string import punctuation\n",
        "from collections import defaultdict\n",
        "def get_vocab(data):\n",
        "    # Processing\n",
        "    vocab, reverse_vocab = {}, {}\n",
        "    freq = defaultdict(int)\n",
        "    vocab_index = 1\n",
        "    for text in data:\n",
        "        for word in text:\n",
        "            if word not in vocab:\n",
        "                vocab[word] = vocab_index\n",
        "                reverse_vocab[vocab_index] = word       # generate reverse vocab as well\n",
        "                vocab_index += 1\n",
        "            freq[word] += 1\n",
        "    vocab['UNK'] = len(vocab) + 1\n",
        "    reverse_vocab[len(vocab)] = 'UNK'\n",
        "    return vocab, reverse_vocab, freq"
      ],
      "metadata": {
        "id": "CtJzqyixHetC"
      },
      "execution_count": null,
      "outputs": []
    },
    {
      "cell_type": "code",
      "source": [
        "vocabulary, reverse_vocabulary, frequencies = get_vocab(data['tokenized_sents'])"
      ],
      "metadata": {
        "id": "Ev-bVYLaBplu"
      },
      "execution_count": null,
      "outputs": []
    },
    {
      "cell_type": "markdown",
      "source": [
        "### One-Hot Vector Representation\n"
      ],
      "metadata": {
        "id": "TCKwOP7CGtiJ"
      }
    },
    {
      "cell_type": "markdown",
      "source": [
        "You can make the sequence to one hot vector\n",
        "\n",
        "Our motive here is to create an embedding layer of texts for the LSTM, OneHot encoding prepares our text array into a format required by embedding layer."
      ],
      "metadata": {
        "id": "QBJemSMeuKQW"
      }
    },
    {
      "cell_type": "code",
      "source": [
        "# taking dictionary size 5000\n",
        "vocab_size = len(vocabulary)\n",
        "# one hot encoding\n",
        "one_hot_dir = [one_hot(words, vocab_size) for words in cleaned]\n",
        "# length of all rows should be equal therefore applying padding\n",
        "# this will adjust size by adding 0 at staring of the shorter rows\n",
        "embedded_layer = pad_sequences(one_hot_dir, padding = 'pre')\n",
        "embedded_layer"
      ],
      "metadata": {
        "execution": {
          "iopub.status.busy": "2021-07-07T12:32:13.660020Z",
          "iopub.execute_input": "2021-07-07T12:32:13.660364Z",
          "iopub.status.idle": "2021-07-07T12:32:14.243487Z",
          "shell.execute_reply.started": "2021-07-07T12:32:13.660330Z",
          "shell.execute_reply": "2021-07-07T12:32:14.242515Z"
        },
        "trusted": true,
        "colab": {
          "base_uri": "https://localhost:8080/"
        },
        "id": "7rFZchsIuKQX",
        "outputId": "91405bca-d9af-4140-9f63-6b4e2d3ae8bb"
      },
      "execution_count": null,
      "outputs": [
        {
          "output_type": "execute_result",
          "data": {
            "text/plain": [
              "array([[    0,     0,     0, ...,  8137, 11419, 22170],\n",
              "       [    0,     0,     0, ...,  5292,  4865, 10635],\n",
              "       [    0,     0,     0, ...,     0, 10002,  5431],\n",
              "       ...,\n",
              "       [    0,     0,     0, ..., 12199,  9875, 11940],\n",
              "       [    0,     0,     0, ...,  8099, 14208, 15105],\n",
              "       [    0,     0,     0, ...,     0, 14472, 21180]], dtype=int32)"
            ]
          },
          "metadata": {},
          "execution_count": 23
        }
      ]
    },
    {
      "cell_type": "code",
      "source": [
        "# converting into numpy arrays.\n",
        "x = np.array(embedded_layer)\n",
        "y = np.array(kaggle_ds['label'])\n",
        "# y = to_categorical(data['label'], num_classes=2)\n",
        "x.shape"
      ],
      "metadata": {
        "execution": {
          "iopub.status.busy": "2021-07-07T12:32:14.245046Z",
          "iopub.execute_input": "2021-07-07T12:32:14.245388Z",
          "iopub.status.idle": "2021-07-07T12:32:14.252480Z",
          "shell.execute_reply.started": "2021-07-07T12:32:14.245352Z",
          "shell.execute_reply": "2021-07-07T12:32:14.251642Z"
        },
        "trusted": true,
        "id": "RgIDo8dcuKQY",
        "colab": {
          "base_uri": "https://localhost:8080/"
        },
        "outputId": "c9fb6f40-75d5-473b-a000-69a4a8a7be94"
      },
      "execution_count": null,
      "outputs": [
        {
          "output_type": "execute_result",
          "data": {
            "text/plain": [
              "(31962, 24)"
            ]
          },
          "metadata": {},
          "execution_count": 24
        }
      ]
    },
    {
      "cell_type": "markdown",
      "source": [
        "#### Train The Model"
      ],
      "metadata": {
        "id": "tDF_9rsWmDMS"
      }
    },
    {
      "cell_type": "code",
      "source": [
        "lstm_model = get_lstm_model(vocab_size, x.shape[1], 50)\n",
        "# Randomly assigns weight to the network\n",
        "shuffle_weights(lstm_model)\n",
        "x_train, x_test, y_train, y_test=train_test_split(x,y,test_size=0.2,random_state=0, shuffle=False)"
      ],
      "metadata": {
        "colab": {
          "base_uri": "https://localhost:8080/"
        },
        "id": "iSrFifWkmLxc",
        "outputId": "194cd981-ec5f-4913-9ad5-488418d3c8f0"
      },
      "execution_count": null,
      "outputs": [
        {
          "output_type": "stream",
          "name": "stdout",
          "text": [
            "WARNING:tensorflow:Layer lstm_5 will not use cuDNN kernels since it doesn't meet the criteria. It will use a generic GPU kernel as fallback when running on GPU.\n",
            "Model: \"sequential_5\"\n",
            "_________________________________________________________________\n",
            " Layer (type)                Output Shape              Param #   \n",
            "=================================================================\n",
            " embedding_5 (Embedding)     (None, 24, 50)            1183550   \n",
            "                                                                 \n",
            " dropout_10 (Dropout)        (None, 24, 50)            0         \n",
            "                                                                 \n",
            " lstm_5 (LSTM)               (None, 24, 128)           91648     \n",
            "                                                                 \n",
            " global_max_pooling1d_5 (Glo  (None, 128)              0         \n",
            " balMaxPooling1D)                                                \n",
            "                                                                 \n",
            " dense_10 (Dense)            (None, 50)                6450      \n",
            "                                                                 \n",
            " leaky_re_lu_5 (LeakyReLU)   (None, 50)                0         \n",
            "                                                                 \n",
            " dropout_11 (Dropout)        (None, 50)                0         \n",
            "                                                                 \n",
            " dense_11 (Dense)            (None, 1)                 51        \n",
            "                                                                 \n",
            "=================================================================\n",
            "Total params: 1,281,699\n",
            "Trainable params: 1,281,699\n",
            "Non-trainable params: 0\n",
            "_________________________________________________________________\n"
          ]
        }
      ]
    },
    {
      "cell_type": "code",
      "source": [
        "trained_model = train_model(lstm_model, x_train, y_train, x_test, y_test, set_batch_size=256)"
      ],
      "metadata": {
        "colab": {
          "base_uri": "https://localhost:8080/",
          "height": 1000
        },
        "id": "8e7Y_91NnizW",
        "outputId": "2e5c528c-8e09-4ef4-b64e-833e069e60a3"
      },
      "execution_count": null,
      "outputs": [
        {
          "output_type": "stream",
          "name": "stdout",
          "text": [
            "Epoch 1/6\n",
            "80/80 [==============================] - 12s 124ms/step - loss: 0.2961 - accuracy: 0.9220 - val_loss: 0.2757 - val_accuracy: 0.9261\n",
            "Epoch 2/6\n",
            "80/80 [==============================] - 9s 116ms/step - loss: 0.2656 - accuracy: 0.9306 - val_loss: 0.2667 - val_accuracy: 0.9261\n",
            "Epoch 3/6\n",
            "80/80 [==============================] - 9s 116ms/step - loss: 0.2246 - accuracy: 0.9307 - val_loss: 0.2029 - val_accuracy: 0.9327\n",
            "Epoch 4/6\n",
            "80/80 [==============================] - 10s 119ms/step - loss: 0.1353 - accuracy: 0.9557 - val_loss: 0.2011 - val_accuracy: 0.9396\n",
            "Epoch 5/6\n",
            "80/80 [==============================] - 9s 116ms/step - loss: 0.1053 - accuracy: 0.9680 - val_loss: 0.1979 - val_accuracy: 0.9378\n",
            "Epoch 6/6\n",
            "80/80 [==============================] - 9s 118ms/step - loss: 0.0896 - accuracy: 0.9745 - val_loss: 0.2143 - val_accuracy: 0.9386\n"
          ]
        },
        {
          "output_type": "display_data",
          "data": {
            "image/png": "[encoded data removed]",
            "text/plain": [
              "<Figure size 864x576 with 2 Axes>"
            ]
          },
          "metadata": {
            "needs_background": "light"
          }
        },
        {
          "output_type": "stream",
          "name": "stdout",
          "text": [
            "200/200 [==============================] - 2s 9ms/step - loss: 0.1945 - accuracy: 0.9470\n",
            "              precision    recall  f1-score   support\n",
            "\n",
            "           0       0.96      0.99      0.97      5949\n",
            "           1       0.70      0.42      0.52       444\n",
            "\n",
            "    accuracy                           0.95      6393\n",
            "   macro avg       0.83      0.70      0.75      6393\n",
            "weighted avg       0.94      0.95      0.94      6393\n",
            "\n",
            "\n",
            "Accuracy 0.9469732519943689\n",
            "LSTM: non hate - hate\n",
            "precision: [0.95773499 0.69811321]\n",
            "recall: [0.98655236 0.41666667]\n",
            "fscore: [0.97193012 0.52186178]\n",
            "support: [5949  444]\n",
            "\n",
            "Confusion Matrix: \n",
            " [[5869   80]\n",
            " [ 259  185]]\n"
          ]
        }
      ]
    },
    {
      "cell_type": "markdown",
      "source": [
        "### Simple Word2Vec Embedding Model\n",
        "\n",
        "**Let's do some word2Vec embeddings instead of OneHot Encoding**\n",
        "\n",
        "We will use the tweets as our corpus to train our word2vec model (From Genism Library)."
      ],
      "metadata": {
        "id": "aP3ctRtfzlXm"
      }
    },
    {
      "cell_type": "markdown",
      "source": [
        "Train our own model based on he data we have from each tweet."
      ],
      "metadata": {
        "id": "kfqQXtGhOQRm"
      }
    },
    {
      "cell_type": "code",
      "source": [
        "# Reference: https://github.com/srishb28/Hate-Speech-Detection-on-Twitter-Data\n",
        "# define training data\n",
        "sentences = data['tokenized_sents']\n",
        "# train model\n",
        "w2v_model = Word2Vec(sentences, size=64, window=4, min_count=1, sg=1)\n",
        "# Define our vocabulary as words\n",
        "words = list(w2v_model.wv.vocab)\n",
        "vocab_size = len(words)\n",
        "print('Vocabulary Size: ', vocab_size)\n",
        "# Define our embedding matrix to be set as weight of the w2v_model Embedding Layer\n",
        "embedding_matrix = np.zeros((vocab_size,64))\n",
        "for i in range(0,len(words)):\n",
        "    embedding_vector = w2v_model[words[i]]\n",
        "    if embedding_vector is not None:\n",
        "        embedding_matrix[i] = embedding_vector\n",
        "embedding_matrix[vocab_size-1]= np.random.normal(scale=0.6, size=(64,))"
      ],
      "metadata": {
        "colab": {
          "base_uri": "https://localhost:8080/"
        },
        "id": "asQBhoewZIiB",
        "outputId": "f7f225e3-7caf-41b7-9b59-604e170e0a0c"
      },
      "execution_count": null,
      "outputs": [
        {
          "output_type": "stream",
          "name": "stdout",
          "text": [
            "Vocabulary Size:  23671\n"
          ]
        },
        {
          "output_type": "stream",
          "name": "stderr",
          "text": [
            "/usr/local/lib/python3.7/dist-packages/ipykernel_launcher.py:12: DeprecationWarning: Call to deprecated `__getitem__` (Method will be removed in 4.0.0, use self.wv.__getitem__() instead).\n",
            "  if sys.path[0] == '':\n"
          ]
        }
      ]
    },
    {
      "cell_type": "markdown",
      "source": [
        "#### Train the model"
      ],
      "metadata": {
        "id": "5zS_6aKYmQms"
      }
    },
    {
      "cell_type": "code",
      "source": [
        "lstm_model = get_lstm_model(vocab_size, 50, 64, embeddings_weight=embedding_matrix, weight_trainable=True)\n",
        "x_train, x_test, y_train, y_test = process_data(data)"
      ],
      "metadata": {
        "colab": {
          "base_uri": "https://localhost:8080/"
        },
        "id": "tBb1OSnfmSjQ",
        "outputId": "01f46fcc-f935-458f-8884-b1401cb938d1"
      },
      "execution_count": null,
      "outputs": [
        {
          "output_type": "stream",
          "name": "stdout",
          "text": [
            "WARNING:tensorflow:Layer lstm_10 will not use cuDNN kernels since it doesn't meet the criteria. It will use a generic GPU kernel as fallback when running on GPU.\n",
            "Model: \"sequential_14\"\n",
            "_________________________________________________________________\n",
            " Layer (type)                Output Shape              Param #   \n",
            "=================================================================\n",
            " embedding_14 (Embedding)    (None, 50, 64)            1514944   \n",
            "                                                                 \n",
            " dropout_20 (Dropout)        (None, 50, 64)            0         \n",
            "                                                                 \n",
            " lstm_10 (LSTM)              (None, 50, 128)           98816     \n",
            "                                                                 \n",
            " global_max_pooling1d_10 (Gl  (None, 128)              0         \n",
            " obalMaxPooling1D)                                               \n",
            "                                                                 \n",
            " dense_20 (Dense)            (None, 50)                6450      \n",
            "                                                                 \n",
            " leaky_re_lu_10 (LeakyReLU)  (None, 50)                0         \n",
            "                                                                 \n",
            " dropout_21 (Dropout)        (None, 50)                0         \n",
            "                                                                 \n",
            " dense_21 (Dense)            (None, 1)                 51        \n",
            "                                                                 \n",
            "=================================================================\n",
            "Total params: 1,620,261\n",
            "Trainable params: 1,620,261\n",
            "Non-trainable params: 0\n",
            "_________________________________________________________________\n"
          ]
        }
      ]
    },
    {
      "cell_type": "code",
      "source": [
        "trained_model = train_model(lstm_model, x_train, y_train, x_test, y_test, set_batch_size=128)"
      ],
      "metadata": {
        "colab": {
          "base_uri": "https://localhost:8080/",
          "height": 1000
        },
        "id": "a0yaNHTMng_-",
        "outputId": "0aa1509a-a2db-4ee3-fabe-7ef7653f1a88"
      },
      "execution_count": null,
      "outputs": [
        {
          "output_type": "stream",
          "name": "stdout",
          "text": [
            "Epoch 1/6\n",
            "160/160 [==============================] - 41s 240ms/step - loss: 0.2825 - accuracy: 0.9212 - val_loss: 0.2860 - val_accuracy: 0.9261\n",
            "Epoch 2/6\n",
            "160/160 [==============================] - 38s 234ms/step - loss: 0.2529 - accuracy: 0.9306 - val_loss: 0.2422 - val_accuracy: 0.9261\n",
            "Epoch 3/6\n",
            "160/160 [==============================] - 37s 230ms/step - loss: 0.1836 - accuracy: 0.9424 - val_loss: 0.1933 - val_accuracy: 0.9406\n",
            "Epoch 4/6\n",
            "160/160 [==============================] - 37s 231ms/step - loss: 0.1384 - accuracy: 0.9567 - val_loss: 0.1997 - val_accuracy: 0.9286\n",
            "Epoch 5/6\n",
            "160/160 [==============================] - 36s 226ms/step - loss: 0.1081 - accuracy: 0.9675 - val_loss: 0.1917 - val_accuracy: 0.9398\n",
            "Epoch 6/6\n",
            "160/160 [==============================] - 37s 234ms/step - loss: 0.0835 - accuracy: 0.9753 - val_loss: 0.2114 - val_accuracy: 0.9382\n"
          ]
        },
        {
          "output_type": "display_data",
          "data": {
            "image/png": "[encoded data removed]",
            "text/plain": [
              "<Figure size 864x576 with 2 Axes>"
            ]
          },
          "metadata": {
            "needs_background": "light"
          }
        },
        {
          "output_type": "stream",
          "name": "stdout",
          "text": [
            "200/200 [==============================] - 3s 16ms/step - loss: 0.1927 - accuracy: 0.9438\n",
            "              precision    recall  f1-score   support\n",
            "\n",
            "           0       0.96      0.98      0.97      5949\n",
            "           1       0.64      0.43      0.52       444\n",
            "\n",
            "    accuracy                           0.94      6393\n",
            "   macro avg       0.80      0.71      0.74      6393\n",
            "weighted avg       0.94      0.94      0.94      6393\n",
            "\n",
            "\n",
            "Accuracy 0.9438448302831222\n",
            "LSTM: non hate - hate\n",
            "precision: [0.95849738 0.64309764]\n",
            "recall: [0.98218188 0.43018018]\n",
            "fscore: [0.9701951  0.51551957]\n",
            "support: [5949  444]\n",
            "\n",
            "Confusion Matrix: \n",
            " [[5843  106]\n",
            " [ 253  191]]\n"
          ]
        }
      ]
    },
    {
      "cell_type": "code",
      "source": [
        "trained_model.save('lstm_model_kaggle.h5')"
      ],
      "metadata": {
        "id": "a3oKXE3qoGWi"
      },
      "execution_count": null,
      "outputs": []
    },
    {
      "cell_type": "markdown",
      "source": [
        "Train the model without updating the weights of the Embedding Layer"
      ],
      "metadata": {
        "id": "hgeY8PCCSLvm"
      }
    },
    {
      "cell_type": "code",
      "source": [
        "lstm_model = get_lstm_model(vocab_size, 50, 64, embeddings_weight=embedding_matrix, weight_trainable=False)\n",
        "x_train, x_test, y_train, y_test = process_data(data)"
      ],
      "metadata": {
        "colab": {
          "base_uri": "https://localhost:8080/"
        },
        "outputId": "a5598ff1-3ebb-4909-f50a-7b88dd05f1cd",
        "id": "-01tg_l7SKW7"
      },
      "execution_count": null,
      "outputs": [
        {
          "output_type": "stream",
          "name": "stdout",
          "text": [
            "WARNING:tensorflow:Layer lstm_7 will not use cuDNN kernels since it doesn't meet the criteria. It will use a generic GPU kernel as fallback when running on GPU.\n",
            "Model: \"sequential_7\"\n",
            "_________________________________________________________________\n",
            " Layer (type)                Output Shape              Param #   \n",
            "=================================================================\n",
            " embedding_7 (Embedding)     (None, 50, 64)            1514944   \n",
            "                                                                 \n",
            " dropout_14 (Dropout)        (None, 50, 64)            0         \n",
            "                                                                 \n",
            " lstm_7 (LSTM)               (None, 50, 128)           98816     \n",
            "                                                                 \n",
            " global_max_pooling1d_7 (Glo  (None, 128)              0         \n",
            " balMaxPooling1D)                                                \n",
            "                                                                 \n",
            " dense_14 (Dense)            (None, 50)                6450      \n",
            "                                                                 \n",
            " leaky_re_lu_7 (LeakyReLU)   (None, 50)                0         \n",
            "                                                                 \n",
            " dropout_15 (Dropout)        (None, 50)                0         \n",
            "                                                                 \n",
            " dense_15 (Dense)            (None, 1)                 51        \n",
            "                                                                 \n",
            "=================================================================\n",
            "Total params: 1,620,261\n",
            "Trainable params: 105,317\n",
            "Non-trainable params: 1,514,944\n",
            "_________________________________________________________________\n"
          ]
        }
      ]
    },
    {
      "cell_type": "code",
      "source": [
        "trained_model = train_model(lstm_model, x_train, y_train, x_test, y_test, set_batch_size=256, num_epochs=6)"
      ],
      "metadata": {
        "colab": {
          "base_uri": "https://localhost:8080/",
          "height": 1000
        },
        "outputId": "a9eb7e18-73b5-4a99-b605-319d61438dbc",
        "id": "YmT1JKGsSKW8"
      },
      "execution_count": null,
      "outputs": [
        {
          "output_type": "stream",
          "name": "stdout",
          "text": [
            "Epoch 1/6\n",
            "80/80 [==============================] - 41s 216ms/step - loss: 0.2830 - accuracy: 0.9291 - val_loss: 0.2826 - val_accuracy: 0.9261\n",
            "Epoch 2/6\n",
            "80/80 [==============================] - 17s 209ms/step - loss: 0.2658 - accuracy: 0.9306 - val_loss: 0.2913 - val_accuracy: 0.9261\n",
            "Epoch 3/6\n",
            "80/80 [==============================] - 17s 208ms/step - loss: 0.2639 - accuracy: 0.9306 - val_loss: 0.2858 - val_accuracy: 0.9261\n",
            "Epoch 4/6\n",
            "80/80 [==============================] - 17s 213ms/step - loss: 0.2617 - accuracy: 0.9306 - val_loss: 0.2764 - val_accuracy: 0.9261\n",
            "Epoch 5/6\n",
            "80/80 [==============================] - 16s 204ms/step - loss: 0.2597 - accuracy: 0.9306 - val_loss: 0.2826 - val_accuracy: 0.9261\n",
            "Epoch 6/6\n",
            "80/80 [==============================] - 17s 208ms/step - loss: 0.2579 - accuracy: 0.9306 - val_loss: 0.2709 - val_accuracy: 0.9261\n"
          ]
        },
        {
          "output_type": "display_data",
          "data": {
            "image/png": "[encoded data removed]",
            "text/plain": [
              "<Figure size 864x576 with 2 Axes>"
            ]
          },
          "metadata": {
            "needs_background": "light"
          }
        },
        {
          "output_type": "stream",
          "name": "stdout",
          "text": [
            "200/200 [==============================] - 3s 16ms/step - loss: 0.2633 - accuracy: 0.9305\n",
            "              precision    recall  f1-score   support\n",
            "\n",
            "           0       0.93      1.00      0.96      5949\n",
            "           1       0.00      0.00      0.00       444\n",
            "\n",
            "    accuracy                           0.93      6393\n",
            "   macro avg       0.47      0.50      0.48      6393\n",
            "weighted avg       0.87      0.93      0.90      6393\n",
            "\n",
            "\n",
            "Accuracy 0.9305490380103237\n",
            "LSTM: non hate - hate\n",
            "precision: [0.93054904 0.        ]\n",
            "recall: [1. 0.]\n",
            "fscore: [0.96402528 0.        ]\n",
            "support: [5949  444]\n",
            "\n",
            "Confusion Matrix: \n",
            " [[5949    0]\n",
            " [ 444    0]]\n"
          ]
        },
        {
          "output_type": "stream",
          "name": "stderr",
          "text": [
            "/usr/local/lib/python3.7/dist-packages/sklearn/metrics/_classification.py:1318: UndefinedMetricWarning: Precision and F-score are ill-defined and being set to 0.0 in labels with no predicted samples. Use `zero_division` parameter to control this behavior.\n",
            "  _warn_prf(average, modifier, msg_start, len(result))\n",
            "/usr/local/lib/python3.7/dist-packages/sklearn/metrics/_classification.py:1318: UndefinedMetricWarning: Precision and F-score are ill-defined and being set to 0.0 in labels with no predicted samples. Use `zero_division` parameter to control this behavior.\n",
            "  _warn_prf(average, modifier, msg_start, len(result))\n",
            "/usr/local/lib/python3.7/dist-packages/sklearn/metrics/_classification.py:1318: UndefinedMetricWarning: Precision and F-score are ill-defined and being set to 0.0 in labels with no predicted samples. Use `zero_division` parameter to control this behavior.\n",
            "  _warn_prf(average, modifier, msg_start, len(result))\n",
            "/usr/local/lib/python3.7/dist-packages/sklearn/metrics/_classification.py:1318: UndefinedMetricWarning: Precision and F-score are ill-defined and being set to 0.0 in labels with no predicted samples. Use `zero_division` parameter to control this behavior.\n",
            "  _warn_prf(average, modifier, msg_start, len(result))\n"
          ]
        }
      ]
    },
    {
      "cell_type": "markdown",
      "source": [
        "### GloVE Pretrained Embedding\n",
        "\n",
        "---\n",
        "\n",
        "\n",
        "Set the weight of embedding layers equal to embedding weights coming from pretrained file, and do not change the weights during training.\n",
        "\n",
        "\n",
        "You can download the file from: https://nlp.stanford.edu/projects/glove/\n"
      ],
      "metadata": {
        "id": "XMrseOXDacoz"
      }
    },
    {
      "cell_type": "code",
      "source": [
        "import gensim\n",
        "embedding_dim = 50\n",
        "glove_file = \"/content/gdrive/MyDrive/GloveEmbeddings/glove.twitter.27B.\" + str(embedding_dim) + \"d.txt\"\n",
        "word2vec_model = gensim.models.KeyedVectors.load_word2vec_format(glove_file)"
      ],
      "metadata": {
        "id": "jOOtkTKpNY2O"
      },
      "execution_count": null,
      "outputs": []
    },
    {
      "cell_type": "code",
      "source": [
        "def get_embedding(word, n):\n",
        "    try:\n",
        "        return word2vec_model[word], n\n",
        "    except Exception as e:\n",
        "        # print('Encoding not found: %s' %(word))\n",
        "        # Return 0 if the embedding does not exist\n",
        "        return np.zeros(embedding_dim), n+1"
      ],
      "metadata": {
        "id": "AVJcgNtkNrEc"
      },
      "execution_count": null,
      "outputs": []
    },
    {
      "cell_type": "code",
      "source": [
        "# Reference: [1] Pinkesh et. al. https://github.com/pinkeshbadjatiya/twitter-hatespeech\n",
        "def get_embedding_weights(vocab):\n",
        "    embedding = np.zeros((len(vocab) + 1, embedding_dim))\n",
        "    n = 0\n",
        "    cnt = 0\n",
        "    for k, v in vocab.items():\n",
        "        try:\n",
        "            embedding[v], cnt = get_embedding(k, cnt)\n",
        "        except Exception as e:\n",
        "            n += 1\n",
        "            pass\n",
        "    print(\"%d embedding missed\"%n)\n",
        "    print(\"%d embedding not found!\"%cnt)\n",
        "    return embedding"
      ],
      "metadata": {
        "id": "cDE0T8rwNtly"
      },
      "execution_count": null,
      "outputs": []
    },
    {
      "cell_type": "markdown",
      "source": [
        "#### Train the model"
      ],
      "metadata": {
        "id": "W9-o9Owymk0H"
      }
    },
    {
      "cell_type": "code",
      "source": [
        "vocabulary, reverse_vocabulary, frequenices = get_vocab(data['tokenized_sents'])\n",
        "print('Length of vocabulary: ', len(vocabulary))\n",
        "pretrained_embeddings_weights = get_embedding_weights(vocabulary)\n",
        "x_train, x_test, y_train, y_test = process_data(data)\n",
        "lstm_model = get_lstm_model(len(vocabulary) + 1, 50, 50, embeddings_weight=pretrained_embeddings_weights, weight_trainable=True)"
      ],
      "metadata": {
        "colab": {
          "base_uri": "https://localhost:8080/"
        },
        "id": "zAtmw08ReGUJ",
        "outputId": "55441098-91b1-4fa5-bad1-70fc463d455a"
      },
      "execution_count": null,
      "outputs": [
        {
          "output_type": "stream",
          "name": "stdout",
          "text": [
            "Length of vocabulary:  23672\n",
            "0 embedding missed\n",
            "12291 embedding not found!\n",
            "WARNING:tensorflow:Layer lstm_22 will not use cuDNN kernels since it doesn't meet the criteria. It will use a generic GPU kernel as fallback when running on GPU.\n",
            "Model: \"sequential_22\"\n",
            "_________________________________________________________________\n",
            " Layer (type)                Output Shape              Param #   \n",
            "=================================================================\n",
            " embedding_22 (Embedding)    (None, 50, 50)            1183650   \n",
            "                                                                 \n",
            " dropout_44 (Dropout)        (None, 50, 50)            0         \n",
            "                                                                 \n",
            " lstm_22 (LSTM)              (None, 50, 128)           91648     \n",
            "                                                                 \n",
            " global_max_pooling1d_22 (Gl  (None, 128)              0         \n",
            " obalMaxPooling1D)                                               \n",
            "                                                                 \n",
            " dense_44 (Dense)            (None, 50)                6450      \n",
            "                                                                 \n",
            " leaky_re_lu_22 (LeakyReLU)  (None, 50)                0         \n",
            "                                                                 \n",
            " dropout_45 (Dropout)        (None, 50)                0         \n",
            "                                                                 \n",
            " dense_45 (Dense)            (None, 1)                 51        \n",
            "                                                                 \n",
            "=================================================================\n",
            "Total params: 1,281,799\n",
            "Trainable params: 1,281,799\n",
            "Non-trainable params: 0\n",
            "_________________________________________________________________\n"
          ]
        }
      ]
    },
    {
      "cell_type": "markdown",
      "source": [
        "We do not expect a great result as most of the words are missing in the GloVE embedding."
      ],
      "metadata": {
        "id": "Gn2bNC5mTasQ"
      }
    },
    {
      "cell_type": "code",
      "source": [
        "trained_model = train_model(lstm_model, x_train, y_train, x_test, y_test)"
      ],
      "metadata": {
        "colab": {
          "base_uri": "https://localhost:8080/",
          "height": 1000
        },
        "id": "8coAS7jrne__",
        "outputId": "735d39af-eb34-43cc-8294-34544b160213"
      },
      "execution_count": null,
      "outputs": [
        {
          "output_type": "stream",
          "name": "stdout",
          "text": [
            "Epoch 1/6\n",
            "320/320 [==============================] - 72s 216ms/step - loss: 0.2759 - accuracy: 0.9302 - val_loss: 0.2632 - val_accuracy: 0.9261\n",
            "Epoch 2/6\n",
            "320/320 [==============================] - 68s 212ms/step - loss: 0.2362 - accuracy: 0.9307 - val_loss: 0.2115 - val_accuracy: 0.9269\n",
            "Epoch 3/6\n",
            "320/320 [==============================] - 69s 214ms/step - loss: 0.1884 - accuracy: 0.9370 - val_loss: 0.1892 - val_accuracy: 0.9396\n",
            "Epoch 4/6\n",
            "320/320 [==============================] - 68s 214ms/step - loss: 0.1589 - accuracy: 0.9470 - val_loss: 0.1863 - val_accuracy: 0.9425\n",
            "Epoch 5/6\n",
            "320/320 [==============================] - 68s 214ms/step - loss: 0.1383 - accuracy: 0.9533 - val_loss: 0.1811 - val_accuracy: 0.9425\n",
            "Epoch 6/6\n",
            "320/320 [==============================] - 68s 211ms/step - loss: 0.1226 - accuracy: 0.9590 - val_loss: 0.1833 - val_accuracy: 0.9370\n"
          ]
        },
        {
          "output_type": "display_data",
          "data": {
            "image/png": "[encoded data removed]",
            "text/plain": [
              "<Figure size 864x576 with 2 Axes>"
            ]
          },
          "metadata": {
            "needs_background": "light"
          }
        },
        {
          "output_type": "stream",
          "name": "stdout",
          "text": [
            "200/200 [==============================] - 3s 16ms/step - loss: 0.1717 - accuracy: 0.9435\n",
            "              precision    recall  f1-score   support\n",
            "\n",
            "           0       0.96      0.98      0.97      5949\n",
            "           1       0.63      0.44      0.52       444\n",
            "\n",
            "    accuracy                           0.94      6393\n",
            "   macro avg       0.80      0.71      0.75      6393\n",
            "weighted avg       0.94      0.94      0.94      6393\n",
            "\n",
            "\n",
            "Accuracy 0.9435319881119975\n",
            "LSTM: non hate - hate\n",
            "precision: [0.95923734 0.63430421]\n",
            "recall: [0.98100521 0.44144144]\n",
            "fscore: [0.96999917 0.52058433]\n",
            "support: [5949  444]\n",
            "\n",
            "Confusion Matrix: \n",
            " [[5836  113]\n",
            " [ 248  196]]\n"
          ]
        }
      ]
    },
    {
      "cell_type": "markdown",
      "source": [
        "### BILSTM Training on KAGGLE Dataset"
      ],
      "metadata": {
        "id": "8_BNAOxwbo5i"
      }
    },
    {
      "cell_type": "code",
      "source": [
        "x_train, x_test, y_train, y_test = process_data(data)\n",
        "bilstm_model = get_bilstm_model(len(vocabulary) - 1, 50, 64, embeddings_weight=embedding_matrix, weight_trainable=True)"
      ],
      "metadata": {
        "colab": {
          "base_uri": "https://localhost:8080/"
        },
        "outputId": "b4d8fa08-6410-4991-de48-e7e2b31c38d3",
        "id": "UaOXOMh9e6fI"
      },
      "execution_count": null,
      "outputs": [
        {
          "output_type": "stream",
          "name": "stdout",
          "text": [
            "WARNING:tensorflow:Layer lstm_8 will not use cuDNN kernels since it doesn't meet the criteria. It will use a generic GPU kernel as fallback when running on GPU.\n",
            "WARNING:tensorflow:Layer lstm_8 will not use cuDNN kernels since it doesn't meet the criteria. It will use a generic GPU kernel as fallback when running on GPU.\n",
            "WARNING:tensorflow:Layer lstm_8 will not use cuDNN kernels since it doesn't meet the criteria. It will use a generic GPU kernel as fallback when running on GPU.\n",
            "Model: \"sequential_11\"\n",
            "_________________________________________________________________\n",
            " Layer (type)                Output Shape              Param #   \n",
            "=================================================================\n",
            " embedding_11 (Embedding)    (None, 50, 64)            1514944   \n",
            "                                                                 \n",
            " dropout_16 (Dropout)        (None, 50, 64)            0         \n",
            "                                                                 \n",
            " bidirectional (Bidirectiona  (None, 50, 256)          197632    \n",
            " l)                                                              \n",
            "                                                                 \n",
            " global_max_pooling1d_8 (Glo  (None, 256)              0         \n",
            " balMaxPooling1D)                                                \n",
            "                                                                 \n",
            " dense_16 (Dense)            (None, 50)                12850     \n",
            "                                                                 \n",
            " leaky_re_lu_8 (LeakyReLU)   (None, 50)                0         \n",
            "                                                                 \n",
            " dropout_17 (Dropout)        (None, 50)                0         \n",
            "                                                                 \n",
            " dense_17 (Dense)            (None, 1)                 51        \n",
            "                                                                 \n",
            "=================================================================\n",
            "Total params: 1,725,477\n",
            "Trainable params: 1,725,477\n",
            "Non-trainable params: 0\n",
            "_________________________________________________________________\n"
          ]
        }
      ]
    },
    {
      "cell_type": "code",
      "source": [
        "trained_model = train_model(bilstm_model, x_train, y_train, x_test, y_test, set_batch_size=128)"
      ],
      "metadata": {
        "colab": {
          "base_uri": "https://localhost:8080/",
          "height": 1000
        },
        "id": "oMPURI_ne7eK",
        "outputId": "92f66a31-d9ba-4c9c-9549-9302b39d7713"
      },
      "execution_count": null,
      "outputs": [
        {
          "output_type": "stream",
          "name": "stdout",
          "text": [
            "Epoch 1/6\n",
            "160/160 [==============================] - 73s 428ms/step - loss: 0.2754 - accuracy: 0.9286 - val_loss: 0.2694 - val_accuracy: 0.9261\n",
            "Epoch 2/6\n",
            "160/160 [==============================] - 68s 426ms/step - loss: 0.2319 - accuracy: 0.9324 - val_loss: 0.2051 - val_accuracy: 0.9341\n",
            "Epoch 3/6\n",
            "160/160 [==============================] - 67s 420ms/step - loss: 0.1572 - accuracy: 0.9493 - val_loss: 0.1816 - val_accuracy: 0.9421\n",
            "Epoch 4/6\n",
            "160/160 [==============================] - 67s 419ms/step - loss: 0.1211 - accuracy: 0.9611 - val_loss: 0.1852 - val_accuracy: 0.9425\n",
            "Epoch 5/6\n",
            "160/160 [==============================] - 67s 417ms/step - loss: 0.0952 - accuracy: 0.9708 - val_loss: 0.1998 - val_accuracy: 0.9366\n",
            "Epoch 6/6\n",
            "160/160 [==============================] - 69s 432ms/step - loss: 0.0755 - accuracy: 0.9772 - val_loss: 0.2181 - val_accuracy: 0.9321\n"
          ]
        },
        {
          "output_type": "display_data",
          "data": {
            "image/png": "[encoded data removed]",
            "text/plain": [
              "<Figure size 864x576 with 2 Axes>"
            ]
          },
          "metadata": {
            "needs_background": "light"
          }
        },
        {
          "output_type": "stream",
          "name": "stdout",
          "text": [
            "200/200 [==============================] - 6s 30ms/step - loss: 0.2023 - accuracy: 0.9382\n",
            "              precision    recall  f1-score   support\n",
            "\n",
            "           0       0.96      0.97      0.97      5949\n",
            "           1       0.57      0.45      0.50       444\n",
            "\n",
            "    accuracy                           0.94      6393\n",
            "   macro avg       0.76      0.71      0.73      6393\n",
            "weighted avg       0.93      0.94      0.93      6393\n",
            "\n",
            "\n",
            "Accuracy 0.9382136712028781\n",
            "LSTM: non hate - hate\n",
            "precision: [0.95946393 0.57020057]\n",
            "recall: [0.97478568 0.4481982 ]\n",
            "fscore: [0.96706412 0.50189155]\n",
            "support: [5949  444]\n",
            "\n",
            "Confusion Matrix: \n",
            " [[5799  150]\n",
            " [ 245  199]]\n"
          ]
        }
      ]
    },
    {
      "cell_type": "code",
      "source": [
        "vocabulary, reverse_vocabulary, frequenices = get_vocab(data['tokenized_sents'])\n",
        "print('Length of vocabulary: ', len(vocabulary))\n",
        "pretrained_embeddings_weights = get_embedding_weights(vocabulary)\n",
        "x_train, x_test, y_train, y_test = process_data(data)\n",
        "bilstm_model = get_bilstm_model(len(vocabulary) + 1, 50, 50, embeddings_weight=pretrained_embeddings_weights, weight_trainable=True)"
      ],
      "metadata": {
        "colab": {
          "base_uri": "https://localhost:8080/"
        },
        "outputId": "d262a03a-4cd5-4a0a-a979-9304124b6b3d",
        "id": "EMokCWgQaoLV"
      },
      "execution_count": null,
      "outputs": [
        {
          "output_type": "stream",
          "name": "stdout",
          "text": [
            "Length of vocabulary:  23672\n",
            "0 embedding missed\n",
            "12291 embedding not found!\n",
            "WARNING:tensorflow:Layer lstm_23 will not use cuDNN kernels since it doesn't meet the criteria. It will use a generic GPU kernel as fallback when running on GPU.\n",
            "Model: \"sequential_23\"\n",
            "_________________________________________________________________\n",
            " Layer (type)                Output Shape              Param #   \n",
            "=================================================================\n",
            " embedding_23 (Embedding)    (None, 50, 50)            1183650   \n",
            "                                                                 \n",
            " dropout_46 (Dropout)        (None, 50, 50)            0         \n",
            "                                                                 \n",
            " lstm_23 (LSTM)              (None, 50, 128)           91648     \n",
            "                                                                 \n",
            " global_max_pooling1d_23 (Gl  (None, 128)              0         \n",
            " obalMaxPooling1D)                                               \n",
            "                                                                 \n",
            " dense_46 (Dense)            (None, 50)                6450      \n",
            "                                                                 \n",
            " leaky_re_lu_23 (LeakyReLU)  (None, 50)                0         \n",
            "                                                                 \n",
            " dropout_47 (Dropout)        (None, 50)                0         \n",
            "                                                                 \n",
            " dense_47 (Dense)            (None, 1)                 51        \n",
            "                                                                 \n",
            "=================================================================\n",
            "Total params: 1,281,799\n",
            "Trainable params: 1,281,799\n",
            "Non-trainable params: 0\n",
            "_________________________________________________________________\n"
          ]
        }
      ]
    },
    {
      "cell_type": "code",
      "source": [
        "trained_model = train_model(bilstm_model, x_train, y_train, x_test, y_test)"
      ],
      "metadata": {
        "colab": {
          "base_uri": "https://localhost:8080/",
          "height": 1000
        },
        "outputId": "a32c3b1e-7366-4e12-8fcd-44b190dd9ad2",
        "id": "SdtIP7shaoLW"
      },
      "execution_count": null,
      "outputs": [
        {
          "output_type": "stream",
          "name": "stdout",
          "text": [
            "Epoch 1/6\n",
            "320/320 [==============================] - 70s 211ms/step - loss: 0.2804 - accuracy: 0.9272 - val_loss: 0.2701 - val_accuracy: 0.9261\n",
            "Epoch 2/6\n",
            "320/320 [==============================] - 67s 209ms/step - loss: 0.2425 - accuracy: 0.9308 - val_loss: 0.2127 - val_accuracy: 0.9288\n",
            "Epoch 3/6\n",
            "320/320 [==============================] - 66s 207ms/step - loss: 0.1826 - accuracy: 0.9390 - val_loss: 0.1905 - val_accuracy: 0.9398\n",
            "Epoch 4/6\n",
            "320/320 [==============================] - 68s 211ms/step - loss: 0.1539 - accuracy: 0.9488 - val_loss: 0.1857 - val_accuracy: 0.9394\n",
            "Epoch 5/6\n",
            "320/320 [==============================] - 67s 210ms/step - loss: 0.1377 - accuracy: 0.9544 - val_loss: 0.1850 - val_accuracy: 0.9368\n",
            "Epoch 6/6\n",
            "320/320 [==============================] - 66s 208ms/step - loss: 0.1224 - accuracy: 0.9598 - val_loss: 0.1858 - val_accuracy: 0.9402\n"
          ]
        },
        {
          "output_type": "display_data",
          "data": {
            "image/png": "[encoded data removed]",
            "text/plain": [
              "<Figure size 864x576 with 2 Axes>"
            ]
          },
          "metadata": {
            "needs_background": "light"
          }
        },
        {
          "output_type": "stream",
          "name": "stdout",
          "text": [
            "200/200 [==============================] - 3s 16ms/step - loss: 0.1757 - accuracy: 0.9442\n",
            "              precision    recall  f1-score   support\n",
            "\n",
            "           0       0.96      0.98      0.97      5949\n",
            "           1       0.66      0.40      0.50       444\n",
            "\n",
            "    accuracy                           0.94      6393\n",
            "   macro avg       0.81      0.69      0.73      6393\n",
            "weighted avg       0.94      0.94      0.94      6393\n",
            "\n",
            "\n",
            "Accuracy 0.9441576724542469\n",
            "LSTM: non hate - hate\n",
            "precision: [0.95641528 0.66292135]\n",
            "recall: [0.98487141 0.39864865]\n",
            "fscore: [0.97043478 0.4978903 ]\n",
            "support: [5949  444]\n",
            "\n",
            "Confusion Matrix: \n",
            " [[5859   90]\n",
            " [ 267  177]]\n"
          ]
        }
      ]
    }
  ]
}